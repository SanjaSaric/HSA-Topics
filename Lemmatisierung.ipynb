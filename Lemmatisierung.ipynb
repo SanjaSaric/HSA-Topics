{
 "cells": [
  {
   "cell_type": "markdown",
   "metadata": {},
   "source": [
    "# Lemmatisierung mit Spacy"
   ]
  },
  {
   "cell_type": "code",
   "execution_count": 1,
   "metadata": {},
   "outputs": [],
   "source": [
    "import warnings\n",
    "warnings.filterwarnings('ignore')\n",
    "\n",
    "from cophi_toolbox import preprocessing\n",
    "import metadata_toolbox.utils as metadata\n",
    "import pandas as pd\n",
    "from pathlib import Path"
   ]
  },
  {
   "cell_type": "markdown",
   "metadata": {},
   "source": [
    "## Laden und auslesen"
   ]
  },
  {
   "cell_type": "code",
   "execution_count": 8,
   "metadata": {},
   "outputs": [],
   "source": [
    "data = 'Z:/TM_Schuchardt'\n",
    "path_to_corpus = Path(data, 'hsa_ita_lemma') # Davor Backup erstellen, da diese Files überschrieben werden\n",
    "pattern = '{id}_{sender}_an_{reciever}_{date}_{language}'\n",
    "# z. B. 1716_Le-Spectateur-ou-le-Socrate-moderne_Anonym_Table-des-Matieres_119-1257\n",
    "meta = pd.concat([metadata.fname2metadata(str(path), pattern=pattern) for path in path_to_corpus.glob('*.txt')])"
   ]
  },
  {
   "cell_type": "code",
   "execution_count": 9,
   "metadata": {},
   "outputs": [
    {
     "data": {
      "text/html": [
       "<div>\n",
       "<style scoped>\n",
       "    .dataframe tbody tr th:only-of-type {\n",
       "        vertical-align: middle;\n",
       "    }\n",
       "\n",
       "    .dataframe tbody tr th {\n",
       "        vertical-align: top;\n",
       "    }\n",
       "\n",
       "    .dataframe thead th {\n",
       "        text-align: right;\n",
       "    }\n",
       "</style>\n",
       "<table border=\"1\" class=\"dataframe\">\n",
       "  <thead>\n",
       "    <tr style=\"text-align: right;\">\n",
       "      <th></th>\n",
       "      <th>id</th>\n",
       "      <th>sender</th>\n",
       "      <th>reciever</th>\n",
       "      <th>date</th>\n",
       "      <th>language</th>\n",
       "    </tr>\n",
       "  </thead>\n",
       "  <tbody>\n",
       "    <tr>\n",
       "      <th>Z:\\TM_Schuchardt\\hsa_ita_lemma\\1010_Graziadio-Isaia-Ascoli_an_Hugo-Schuchardt_1873-09-02_ita.txt</th>\n",
       "      <td>1010</td>\n",
       "      <td>Graziadio-Isaia-Ascoli</td>\n",
       "      <td>Hugo-Schuchardt</td>\n",
       "      <td>1873-09-02</td>\n",
       "      <td>ita</td>\n",
       "    </tr>\n",
       "    <tr>\n",
       "      <th>Z:\\TM_Schuchardt\\hsa_ita_lemma\\1057_Graziadio-Isaia-Ascoli_an_Hugo-Schuchardt_1879-02-17_ita.txt</th>\n",
       "      <td>1057</td>\n",
       "      <td>Graziadio-Isaia-Ascoli</td>\n",
       "      <td>Hugo-Schuchardt</td>\n",
       "      <td>1879-02-17</td>\n",
       "      <td>ita</td>\n",
       "    </tr>\n",
       "    <tr>\n",
       "      <th>Z:\\TM_Schuchardt\\hsa_ita_lemma\\1058_Graziadio-Isaia-Ascoli_an_Hugo-Schuchardt_1879-06-24_ita.txt</th>\n",
       "      <td>1058</td>\n",
       "      <td>Graziadio-Isaia-Ascoli</td>\n",
       "      <td>Hugo-Schuchardt</td>\n",
       "      <td>1879-06-24</td>\n",
       "      <td>ita</td>\n",
       "    </tr>\n",
       "    <tr>\n",
       "      <th>Z:\\TM_Schuchardt\\hsa_ita_lemma\\1083_Hugo-Schuchardt_an_Graziadio-Isaia-Ascoli_1869-01-13_ita.txt</th>\n",
       "      <td>1083</td>\n",
       "      <td>Hugo-Schuchardt</td>\n",
       "      <td>Graziadio-Isaia-Ascoli</td>\n",
       "      <td>1869-01-13</td>\n",
       "      <td>ita</td>\n",
       "    </tr>\n",
       "    <tr>\n",
       "      <th>Z:\\TM_Schuchardt\\hsa_ita_lemma\\1084_Hugo-Schuchardt_an_Graziadio-Isaia-Ascoli_1869-02-11_ita.txt</th>\n",
       "      <td>1084</td>\n",
       "      <td>Hugo-Schuchardt</td>\n",
       "      <td>Graziadio-Isaia-Ascoli</td>\n",
       "      <td>1869-02-11</td>\n",
       "      <td>ita</td>\n",
       "    </tr>\n",
       "  </tbody>\n",
       "</table>\n",
       "</div>"
      ],
      "text/plain": [
       "                                                      id  \\\n",
       "Z:\\TM_Schuchardt\\hsa_ita_lemma\\1010_Graziadio-I...  1010   \n",
       "Z:\\TM_Schuchardt\\hsa_ita_lemma\\1057_Graziadio-I...  1057   \n",
       "Z:\\TM_Schuchardt\\hsa_ita_lemma\\1058_Graziadio-I...  1058   \n",
       "Z:\\TM_Schuchardt\\hsa_ita_lemma\\1083_Hugo-Schuch...  1083   \n",
       "Z:\\TM_Schuchardt\\hsa_ita_lemma\\1084_Hugo-Schuch...  1084   \n",
       "\n",
       "                                                                    sender  \\\n",
       "Z:\\TM_Schuchardt\\hsa_ita_lemma\\1010_Graziadio-I...  Graziadio-Isaia-Ascoli   \n",
       "Z:\\TM_Schuchardt\\hsa_ita_lemma\\1057_Graziadio-I...  Graziadio-Isaia-Ascoli   \n",
       "Z:\\TM_Schuchardt\\hsa_ita_lemma\\1058_Graziadio-I...  Graziadio-Isaia-Ascoli   \n",
       "Z:\\TM_Schuchardt\\hsa_ita_lemma\\1083_Hugo-Schuch...         Hugo-Schuchardt   \n",
       "Z:\\TM_Schuchardt\\hsa_ita_lemma\\1084_Hugo-Schuch...         Hugo-Schuchardt   \n",
       "\n",
       "                                                                  reciever  \\\n",
       "Z:\\TM_Schuchardt\\hsa_ita_lemma\\1010_Graziadio-I...         Hugo-Schuchardt   \n",
       "Z:\\TM_Schuchardt\\hsa_ita_lemma\\1057_Graziadio-I...         Hugo-Schuchardt   \n",
       "Z:\\TM_Schuchardt\\hsa_ita_lemma\\1058_Graziadio-I...         Hugo-Schuchardt   \n",
       "Z:\\TM_Schuchardt\\hsa_ita_lemma\\1083_Hugo-Schuch...  Graziadio-Isaia-Ascoli   \n",
       "Z:\\TM_Schuchardt\\hsa_ita_lemma\\1084_Hugo-Schuch...  Graziadio-Isaia-Ascoli   \n",
       "\n",
       "                                                          date language  \n",
       "Z:\\TM_Schuchardt\\hsa_ita_lemma\\1010_Graziadio-I...  1873-09-02      ita  \n",
       "Z:\\TM_Schuchardt\\hsa_ita_lemma\\1057_Graziadio-I...  1879-02-17      ita  \n",
       "Z:\\TM_Schuchardt\\hsa_ita_lemma\\1058_Graziadio-I...  1879-06-24      ita  \n",
       "Z:\\TM_Schuchardt\\hsa_ita_lemma\\1083_Hugo-Schuch...  1869-01-13      ita  \n",
       "Z:\\TM_Schuchardt\\hsa_ita_lemma\\1084_Hugo-Schuch...  1869-02-11      ita  "
      ]
     },
     "execution_count": 9,
     "metadata": {},
     "output_type": "execute_result"
    }
   ],
   "source": [
    "meta[:5]"
   ]
  },
  {
   "cell_type": "code",
   "execution_count": 10,
   "metadata": {},
   "outputs": [
    {
     "data": {
      "text/plain": [
       "250"
      ]
     },
     "execution_count": 10,
     "metadata": {},
     "output_type": "execute_result"
    }
   ],
   "source": [
    "len(meta)"
   ]
  },
  {
   "cell_type": "markdown",
   "metadata": {},
   "source": [
    "## Lemmatisierung mit Spacy"
   ]
  },
  {
   "cell_type": "code",
   "execution_count": 11,
   "metadata": {},
   "outputs": [],
   "source": [
    "import spacy\n",
    "nlp = spacy.load('it_core_news_sm')\n",
    "\n",
    "\"\"\"\n",
    "Sprachpakete:\n",
    "Deutsch: de_core_news_sm\n",
    "Italienisch: it_core_news_sm\n",
    "Spanisch: es_core_news_md\n",
    "Französisch: fr_core_news_md\n",
    "\"\"\""
   ]
  },
  {
   "cell_type": "markdown",
   "metadata": {},
   "source": [
    "### Dateien lemmatisieren und speichern"
   ]
  },
  {
   "cell_type": "code",
   "execution_count": 12,
   "metadata": {},
   "outputs": [],
   "source": [
    "for file in path_to_corpus.glob('*.txt'):\n",
    "    with open(file, encoding='utf-8') as f:\n",
    "        original = f.read()\n",
    "        lemmatized_object = nlp(original)\n",
    "        lemma_list = []\n",
    "        for lemma in lemmatized_object:\n",
    "            lemma_list.append(lemma.lemma_)\n",
    "        lemma_doc = ' '.join(lemma_list)\n",
    "    with open(file, 'w', encoding='utf-8') as f: # Achtung: Files werden überschrieben\n",
    "        f.write(lemma_doc)"
   ]
  }
 ],
 "metadata": {
  "kernelspec": {
   "display_name": "Python 3",
   "language": "python",
   "name": "python3"
  },
  "language_info": {
   "codemirror_mode": {
    "name": "ipython",
    "version": 3
   },
   "file_extension": ".py",
   "mimetype": "text/x-python",
   "name": "python",
   "nbconvert_exporter": "python",
   "pygments_lexer": "ipython3",
   "version": "3.7.3"
  }
 },
 "nbformat": 4,
 "nbformat_minor": 2
}
